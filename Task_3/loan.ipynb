{
 "cells": [
  {
   "cell_type": "code",
   "execution_count": 1,
   "id": "820d8955",
   "metadata": {},
   "outputs": [],
   "source": [
    "from sklearn.linear_model import LogisticRegression\n",
    "from sklearn import metrics\n",
    "import numpy as np\n",
    "import pandas as pd"
   ]
  },
  {
   "cell_type": "code",
   "execution_count": 6,
   "id": "0510709f",
   "metadata": {},
   "outputs": [],
   "source": [
    "# Read in loan data from a CSV file\n",
    "df = pd.read_csv('../Task_3/Task 3 and 4_Loan_Data.csv')"
   ]
  },
  {
   "cell_type": "code",
   "execution_count": 7,
   "id": "6636e1e4",
   "metadata": {},
   "outputs": [],
   "source": [
    "\n",
    "# Define the variable features\n",
    "features = ['credit_lines_outstanding', 'debt_to_income', 'payment_to_income', 'years_employed', 'fico_score']"
   ]
  },
  {
   "cell_type": "code",
   "execution_count": 8,
   "id": "93a2936d",
   "metadata": {},
   "outputs": [],
   "source": [
    "\n",
    "# Calculate the payment_to_income ratio\n",
    "df['payment_to_income'] = df['loan_amt_outstanding'] / df['income']"
   ]
  },
  {
   "cell_type": "code",
   "execution_count": 9,
   "id": "ba13f030",
   "metadata": {},
   "outputs": [],
   "source": [
    "\n",
    "# Calculate the debt_to_income ratio\n",
    "df['debt_to_income'] = df['total_debt_outstanding'] / df['income']"
   ]
  },
  {
   "cell_type": "code",
   "execution_count": 10,
   "id": "853ecee0",
   "metadata": {},
   "outputs": [
    {
     "name": "stdout",
     "output_type": "stream",
     "text": [
      "[[ 8.18520373  0.54490854  0.01994244 -2.77630853 -0.02418391]] [-0.09162643]\n"
     ]
    }
   ],
   "source": [
    "\n",
    "clf = LogisticRegression(random_state=0, solver='liblinear', tol=1e-5, max_iter=10000).fit(df[features], df['default'])\n",
    "print(clf.coef_, clf.intercept_)"
   ]
  },
  {
   "cell_type": "code",
   "execution_count": 11,
   "id": "151b1ceb",
   "metadata": {},
   "outputs": [],
   "source": [
    "\n",
    "# Use the following code to check yourself\n",
    "y_pred = clf.predict(df[features])"
   ]
  },
  {
   "cell_type": "code",
   "execution_count": 12,
   "id": "9cedfd79",
   "metadata": {},
   "outputs": [
    {
     "name": "stdout",
     "output_type": "stream",
     "text": [
      "0.0037\n",
      "0.9925106069101026\n"
     ]
    }
   ],
   "source": [
    "\n",
    "fpr, tpr, thresholds = metrics.roc_curve(df['default'], y_pred)\n",
    "print((1.0*(abs(df['default']-y_pred)).sum()) / len(df))\n",
    "print(metrics.auc(fpr, tpr))"
   ]
  }
 ],
 "metadata": {
  "kernelspec": {
   "display_name": "Python 3",
   "language": "python",
   "name": "python3"
  },
  "language_info": {
   "codemirror_mode": {
    "name": "ipython",
    "version": 3
   },
   "file_extension": ".py",
   "mimetype": "text/x-python",
   "name": "python",
   "nbconvert_exporter": "python",
   "pygments_lexer": "ipython3",
   "version": "3.12.10"
  }
 },
 "nbformat": 4,
 "nbformat_minor": 5
}
